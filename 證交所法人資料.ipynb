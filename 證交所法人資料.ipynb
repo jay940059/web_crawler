{
 "cells": [
  {
   "cell_type": "markdown",
   "metadata": {},
   "source": [
    "# 證交所法人資料"
   ]
  },
  {
   "cell_type": "code",
   "execution_count": null,
   "metadata": {},
   "outputs": [],
   "source": [
    "import requests\n",
    "import pandas as pd\n",
    "import datetime\n",
    "\n",
    "# 抓取三大法人的每日資訊\n",
    "def crawl_major(date):\n",
    "    headers = {'user-agent':'Mozilla/5.0 (Windows NT 10.0; Win64; x64) AppleWebKit/537.36'}\n",
    "    r = requests.get('https://www.twse.com.tw/fund/T86?response=html&date={}&selectType=ALL'.format(date),headers = headers)\n",
    "    dfs = pd.read_html(StringIO(r.text))\n",
    "    dfs[0].columns = [i[1] for i in dfs[0].columns]\n",
    "    df = dfs[0]\n",
    "    return df\n",
    "\n",
    "today = datetime.date.today()\n",
    "today = today.strftime('%Y%m%d')\n",
    "\n",
    "major = crawl_major(today)"
   ]
  }
 ],
 "metadata": {
  "kernelspec": {
   "display_name": "Python 3",
   "language": "python",
   "name": "python3"
  },
  "language_info": {
   "codemirror_mode": {
    "name": "ipython",
    "version": 3
   },
   "file_extension": ".py",
   "mimetype": "text/x-python",
   "name": "python",
   "nbconvert_exporter": "python",
   "pygments_lexer": "ipython3",
   "version": "3.7.4"
  }
 },
 "nbformat": 4,
 "nbformat_minor": 2
}
